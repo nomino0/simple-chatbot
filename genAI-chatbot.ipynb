{
 "cells": [
  {
   "cell_type": "code",
   "execution_count": null,
   "id": "c919b35c",
   "metadata": {},
   "outputs": [],
   "source": [
    "# faire !pip install groq \n",
    "import os\n",
    "from groq import Groq"
   ]
  },
  {
   "cell_type": "code",
   "execution_count": 87,
   "id": "8c21b56a",
   "metadata": {},
   "outputs": [],
   "source": [
    "def llm_answer(history):\n",
    "    client = Groq(\n",
    "        api_key='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' ,\n",
    "    )\n",
    "    chat_completion = client.chat.completions.create(\n",
    "        messages= history,\n",
    "        model=\"llama-3.3-70b-versatile\",\n",
    "    )\n",
    "    return chat_completion.choices[0].message.content"
   ]
  },
  {
   "cell_type": "code",
   "execution_count": null,
   "id": "f8cece5d-9a02-4e08-9c64-1ba7e9830347",
   "metadata": {},
   "outputs": [],
   "source": [
    "history = list()\n",
    "\n",
    "question = input('Posez Votre Question : ')\n",
    "\n",
    "while(question != '/bye'):\n",
    "    user_prompt = {\n",
    "         \"role\": \"user\",\n",
    "        \"content\": question,\n",
    "    }\n",
    "    history.append(user_prompt) # [user_prompt ]\n",
    "    \n",
    "    answer = llm_answer(history)\n",
    "    print(\"\\nAI : \", answer)\n",
    "    ai_prompt = {\n",
    "         \"role\": \"assistant\",\n",
    "        \"content\": answer,\n",
    "    }\n",
    "    history.append(ai_prompt)\n",
    "    question = input('\\n\\nPosez Votre Question : ')\n",
    "else:\n",
    "    print(\"\\nAI : \", \"BYE BYE Don't come back please \")\n"
   ]
  },
  {
   "cell_type": "code",
   "execution_count": null,
   "id": "6589e0ec-2556-40fd-a94c-9f4a4d590e56",
   "metadata": {},
   "outputs": [],
   "source": []
  }
 ],
 "metadata": {
  "kernelspec": {
   "display_name": "Python 3 (ipykernel)",
   "language": "python",
   "name": "python3"
  },
  "language_info": {
   "codemirror_mode": {
    "name": "ipython",
    "version": 3
   },
   "file_extension": ".py",
   "mimetype": "text/x-python",
   "name": "python",
   "nbconvert_exporter": "python",
   "pygments_lexer": "ipython3",
   "version": "3.11.9"
  }
 },
 "nbformat": 4,
 "nbformat_minor": 5
}
